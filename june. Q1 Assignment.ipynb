{
 "cells": [
  {
   "cell_type": "markdown",
   "metadata": {},
   "source": [
    "# Calculate the area of a circle"
   ]
  },
  {
   "cell_type": "code",
   "execution_count": 1,
   "metadata": {},
   "outputs": [
    {
     "name": "stdout",
     "output_type": "stream",
     "text": [
      "Input Radius:1\n",
      "Area of circle with radius 1.0 is 3.14159\n"
     ]
    }
   ],
   "source": [
    "r=float(input(\"Input Radius:\"))\n",
    "A=((3.14159)*(r**2))\n",
    "print(\"Area of circle with radius\",r,\"is\",A)"
   ]
  },
  {
   "cell_type": "markdown",
   "metadata": {},
   "source": [
    "# Check number either positive, negative or zero"
   ]
  },
  {
   "cell_type": "code",
   "execution_count": 1,
   "metadata": {},
   "outputs": [
    {
     "name": "stdout",
     "output_type": "stream",
     "text": [
      "enter number:0\n",
      "zero entered\n"
     ]
    }
   ],
   "source": [
    "a=int(input(\"enter number:\"))\n",
    "if a>0:\n",
    "    print(\"positive number entered\")\n",
    "elif a<0:\n",
    "    print(\"negative number entered\")\n",
    "else:\n",
    "    print(\"zero entered\")\n"
   ]
  },
  {
   "cell_type": "markdown",
   "metadata": {},
   "source": [
    "# Divisiblity check of two numbers"
   ]
  },
  {
   "cell_type": "code",
   "execution_count": 26,
   "metadata": {},
   "outputs": [
    {
     "name": "stdout",
     "output_type": "stream",
     "text": [
      "enter numerator:7\n",
      "enter denominator:4\n",
      "number 7 is not  completely divisible by 4\n"
     ]
    }
   ],
   "source": [
    "n=int(input(\"enter numerator:\"))\n",
    "d=int(input(\"enter denominator:\"))\n",
    "if n%d==0:\n",
    "    print(\"number\",n,\"is completely divisible by\",d)\n",
    "else:\n",
    "    print(\"number\",n,\"is not  completely divisible by\",d)"
   ]
  },
  {
   "cell_type": "markdown",
   "metadata": {},
   "source": [
    "# Days calculaor"
   ]
  },
  {
   "cell_type": "code",
   "execution_count": 2,
   "metadata": {},
   "outputs": [
    {
     "name": "stdout",
     "output_type": "stream",
     "text": [
      "Enter first date in Y/m/d format:2018/12/12\n",
      "Enter second date in Y/m/d format:2018/12/16\n",
      "There are 4 days between 2018/12/12 and 2018/12/16\n"
     ]
    }
   ],
   "source": [
    "import datetime\n",
    "x = input(\"Enter first date in Y/m/d format:\")\n",
    "y = input(\"Enter second date in Y/m/d format:\")\n",
    "a = datetime.datetime.strptime(x,\"%Y/%m/%d\")\n",
    "b = datetime.datetime.strptime(y,\"%Y/%m/%d\")\n",
    "print(\"There are\",(b-a).days,\"days between\",x,\"and\",y)"
   ]
  },
  {
   "cell_type": "markdown",
   "metadata": {},
   "source": [
    "# Calculate volume of a sphere."
   ]
  },
  {
   "cell_type": "code",
   "execution_count": 25,
   "metadata": {},
   "outputs": [
    {
     "name": "stdout",
     "output_type": "stream",
     "text": [
      "enter radius of sphere:1\n",
      "volume of the sphere with radius 1 is 3.14159\n"
     ]
    }
   ],
   "source": [
    "r=int(input(\"enter radius of sphere:\"))\n",
    "v=(3.14159*(r**3))\n",
    "print(\"volume of the sphere with radius\",r,\"is\",v)"
   ]
  },
  {
   "cell_type": "markdown",
   "metadata": {},
   "source": [
    "# Copy string n times."
   ]
  },
  {
   "cell_type": "code",
   "execution_count": 29,
   "metadata": {},
   "outputs": [
    {
     "name": "stdout",
     "output_type": "stream",
     "text": [
      "enter string:hi\n",
      "how many copies of string you need:4\n",
      "hihihihi\n"
     ]
    }
   ],
   "source": [
    "s=input(\"enter string:\")\n",
    "n=int(input(\"how many copies of string you need:\"))\n",
    "print(s*n)"
   ]
  },
  {
   "cell_type": "markdown",
   "metadata": {},
   "source": [
    "# Check if number is even or odd"
   ]
  },
  {
   "cell_type": "code",
   "execution_count": 31,
   "metadata": {},
   "outputs": [
    {
     "name": "stdout",
     "output_type": "stream",
     "text": [
      "enter number:6\n",
      "6 is even\n"
     ]
    }
   ],
   "source": [
    "n=int(input(\"enter number:\"))\n",
    "if n%2==0:\n",
    "    print(n,\"is even\")\n",
    "else:\n",
    "    prnt(n,\"is odd\")"
   ]
  },
  {
   "cell_type": "markdown",
   "metadata": {},
   "source": [
    "# Vowel tester"
   ]
  },
  {
   "cell_type": "code",
   "execution_count": 36,
   "metadata": {},
   "outputs": [
    {
     "name": "stdout",
     "output_type": "stream",
     "text": [
      "Enter a character:e\n",
      "character e is a vowel\n"
     ]
    }
   ],
   "source": [
    "v=input(\"Enter a character:\")\n",
    "if v==\"a\" or v==\"e\" or v==\"i\"or v==\"o\" or v==\"u\":\n",
    "    print(\"character\",v,\"is a vowel\")\n",
    "elif v==\"A\" or v==\"E\" or v==\"I\"or v==\"O\" or v==\"U\":\n",
    "    print(\"character\",v,\"is a vowel\")\n",
    "else:\n",
    "    print(\"character\",v,\"is not a vowel\")"
   ]
  },
  {
   "cell_type": "markdown",
   "metadata": {},
   "source": [
    "# Triangle Area."
   ]
  },
  {
   "cell_type": "code",
   "execution_count": 1,
   "metadata": {},
   "outputs": [
    {
     "name": "stdout",
     "output_type": "stream",
     "text": [
      "enter magnitude of triangle base:5\n",
      "enter magnitude o triangle height:2\n",
      "area of a triangle with height 2 and base 5 is 5.0\n"
     ]
    }
   ],
   "source": [
    "b=int(input(\"enter magnitude of triangle base:\"))\n",
    "h=int(input(\"enter magnitude o triangle height:\"))\n",
    "a=1/2*b*h\n",
    "print(\"area of a triangle with height\",h,\"and\",\"base\",b,\"is\",a)"
   ]
  },
  {
   "cell_type": "markdown",
   "metadata": {},
   "source": [
    "# Calculate Interest"
   ]
  },
  {
   "cell_type": "code",
   "execution_count": 3,
   "metadata": {},
   "outputs": [
    {
     "name": "stdout",
     "output_type": "stream",
     "text": [
      "please enter principal amount:10000\n",
      "please enter rate of interest in %:0.1\n",
      "enter number of years for investement:5\n",
      "after 5 years your principal amount 10000 over sn interest rate of 0.1 will be 10050.100100050004\n"
     ]
    }
   ],
   "source": [
    "a=int(input(\"please enter principal amount:\"))\n",
    "b=float(input(\"please enter rate of interest in %:\"))\n",
    "c=int(input(\"enter number of years for investement:\"))\n",
    "d= a*((1+(0.01*b)) ** c)\n",
    "print(\"after\",c,\"years your principal amount\",a,\"over sn interest rate of\",b,\"will be\",d)"
   ]
  },
  {
   "cell_type": "markdown",
   "metadata": {},
   "source": [
    "# Euclidean distance"
   ]
  },
  {
   "cell_type": "code",
   "execution_count": 4,
   "metadata": {},
   "outputs": [
    {
     "name": "stdout",
     "output_type": "stream",
     "text": [
      "enter Co-ordinate for x1:2\n",
      "enter Co-ordinate for x2:5\n",
      "enter Co-ordinate for y1:1\n",
      "enter Co-ordinate for y2:2\n",
      "distance between points (2, 1) and (5, 2) is 3.1622776601683795\n"
     ]
    }
   ],
   "source": [
    "import math\n",
    "a=int(input(\"enter Co-ordinate for x1:\"))\n",
    "b=int(input(\"enter Co-ordinate for x2:\"))\n",
    "c=int(input(\"enter Co-ordinate for y1:\"))\n",
    "d=int(input(\"enter Co-ordinate for y2:\"))\n",
    "dist = math.sqrt((b - a)**2 + (d - c)**2)\n",
    "print(\"distance between points\",(a,c),\"and\",(b,d),\"is\",dist)"
   ]
  },
  {
   "cell_type": "markdown",
   "metadata": {},
   "source": [
    "# Feet to centimeter converter"
   ]
  },
  {
   "cell_type": "code",
   "execution_count": 14,
   "metadata": {},
   "outputs": [
    {
     "name": "stdout",
     "output_type": "stream",
     "text": [
      "enter height in feet:5\n",
      "there are 152.4 cm in 5 ft\n"
     ]
    }
   ],
   "source": [
    "e=int(input(\"enter height in feet:\"))\n",
    "f=30.48*e\n",
    "print(\"there are\",f,\"cm in\",e,\"ft\")"
   ]
  },
  {
   "cell_type": "markdown",
   "metadata": {},
   "source": [
    "# BMI calculator"
   ]
  },
  {
   "cell_type": "code",
   "execution_count": 5,
   "metadata": {},
   "outputs": [
    {
     "name": "stdout",
     "output_type": "stream",
     "text": [
      "Enter height in cm:89\n",
      "enter weight in kg:62\n",
      "your BMI is 78.27294533518494\n"
     ]
    }
   ],
   "source": [
    "h=int(input(\"Enter height in cm:\"))\n",
    "c=h/100\n",
    "w=int(input(\"enter weight in kg:\"))\n",
    "BMI=w/(c**2)\n",
    "print(\"your BMI is\",BMI)"
   ]
  },
  {
   "cell_type": "markdown",
   "metadata": {},
   "source": [
    "# Sum of n Positive Integers"
   ]
  },
  {
   "cell_type": "code",
   "execution_count": 2,
   "metadata": {},
   "outputs": [
    {
     "name": "stdout",
     "output_type": "stream",
     "text": [
      "enter value of n:6\n",
      "sum of n positive integers till 6 is 21.0\n"
     ]
    }
   ],
   "source": [
    "n=int(input(\"enter value of n:\"))\n",
    "Y=(n*(n+1))/2\n",
    "print(\"sum of n positive integers till\",Z, \"is\",Y)"
   ]
  },
  {
   "cell_type": "markdown",
   "metadata": {},
   "source": [
    "# Digits sum of a number"
   ]
  },
  {
   "cell_type": "code",
   "execution_count": 18,
   "metadata": {},
   "outputs": [
    {
     "name": "stdout",
     "output_type": "stream",
     "text": [
      "Enter a number: 67\n",
      "Sum of 67 is 13\n"
     ]
    }
   ],
   "source": [
    "num = input(\"Enter a number: \")\n",
    "sum = 0\n",
    "for i in num:\n",
    "    sum += int(i)\n",
    "print(\"Sum of\",num,\"is\",sum)"
   ]
  },
  {
   "cell_type": "markdown",
   "metadata": {},
   "source": [
    "# Decimal to Binary Converter"
   ]
  },
  {
   "cell_type": "code",
   "execution_count": 17,
   "metadata": {},
   "outputs": [
    {
     "name": "stdout",
     "output_type": "stream",
     "text": [
      "Enter any decimal number: 5\n",
      "101"
     ]
    }
   ],
   "source": [
    "def decimalToBinary(num):\n",
    "    if num > 1:\n",
    "        decimalToBinary(num // 2)\n",
    "    print(num % 2, end='')\n",
    "number = int(input(\"Enter any decimal number: \"))\n",
    "\n",
    "decimalToBinary(number)"
   ]
  },
  {
   "cell_type": "markdown",
   "metadata": {},
   "source": [
    "# Binary to decimal converter"
   ]
  },
  {
   "cell_type": "code",
   "execution_count": 8,
   "metadata": {},
   "outputs": [
    {
     "name": "stdout",
     "output_type": "stream",
     "text": [
      "Enter a Binary number: 1101\n",
      "Binary representation of 1101 in Decimal = 13\n"
     ]
    }
   ],
   "source": [
    "binary = input(\"Enter a Binary number: \");\n",
    "if binary == 'x':\n",
    "    exit();\n",
    "else:\n",
    "    decimal = int(binary, 2);\n",
    "    print(\"Binary representation of\",binary,\"in Decimal =\",decimal);"
   ]
  },
  {
   "cell_type": "code",
   "execution_count": null,
   "metadata": {},
   "outputs": [],
   "source": [
    "Vowels and consonants counter."
   ]
  },
  {
   "cell_type": "code",
   "execution_count": 2,
   "metadata": {},
   "outputs": [
    {
     "name": "stdout",
     "output_type": "stream",
     "text": [
      "enter text:Mansoor\n",
      "vowels: 3\n",
      "consonants: 4\n"
     ]
    }
   ],
   "source": [
    "v=input(\"enter text:\")\n",
    "count1=0\n",
    "count2=0\n",
    "for i in v:\n",
    "    if i==\"a\" or i==\"e\" or i==\"i\" or i==\"o\" or i==\"u\":\n",
    "        count1=count1+1\n",
    "    else:\n",
    "        count2=count2+1\n",
    "print(\"vowels:\",count1)\n",
    "print(\"consonants:\",count2)"
   ]
  },
  {
   "cell_type": "markdown",
   "metadata": {},
   "source": [
    "# Palindrome tester"
   ]
  },
  {
   "cell_type": "code",
   "execution_count": 8,
   "metadata": {},
   "outputs": [
    {
     "name": "stdout",
     "output_type": "stream",
     "text": [
      "Enter text:Mansoor\n",
      "text Mansoor is not palindrome\n"
     ]
    }
   ],
   "source": [
    "t=input(\"Enter text:\")\n",
    "if t==t[::-1]:\n",
    "    print(\"text\",t,\"is palindrome\")\n",
    "else:\n",
    "    print(\"text\",t,\"is not palindrome\")"
   ]
  },
  {
   "cell_type": "markdown",
   "metadata": {},
   "source": [
    "# Count alphabets,numbers,special characters and spaces."
   ]
  },
  {
   "cell_type": "code",
   "execution_count": 6,
   "metadata": {},
   "outputs": [
    {
     "name": "stdout",
     "output_type": "stream",
     "text": [
      "enter text:python 3.2\n",
      "numbers: 2\n",
      "Alphabets: 6\n",
      "Special characters: 1\n",
      "spaces 1\n"
     ]
    }
   ],
   "source": [
    "t=input(\"enter text:\")\n",
    "a=\" \"\n",
    "count=0\n",
    "count1=0\n",
    "count2=0\n",
    "count3=0\n",
    "for i in range(len(t)):\n",
    "    if t[i].isalpha():\n",
    "        count=count+1\n",
    "    elif t[i].isdigit():\n",
    "        count1=count1+1\n",
    "    elif t[i]==a:\n",
    "        count2=count2+1\n",
    "    else:\n",
    "        count3=count3+1\n",
    "print(\"numbers:\",count1)\n",
    "print(\"Alphabets:\",count)\n",
    "print(\"Special characters:\",count3)\n",
    "print(\"spaces:\",count2)"
   ]
  },
  {
   "cell_type": "markdown",
   "metadata": {},
   "source": [
    "# 21. Write a Python program to construct the following pattern\n",
    "*\n",
    "* *\n",
    "* * *\n",
    "* * * *\n",
    "* * * * *\n",
    "* * * *\n",
    "* * *\n",
    "* *\n",
    "*"
   ]
  },
  {
   "cell_type": "code",
   "execution_count": 5,
   "metadata": {},
   "outputs": [
    {
     "name": "stdout",
     "output_type": "stream",
     "text": [
      "Maximum number of stars?5\n",
      "* \n",
      "* * \n",
      "* * * \n",
      "* * * * \n",
      "* * * * * \n",
      "* * * * \n",
      "* * * \n",
      "* * \n",
      "* \n"
     ]
    }
   ],
   "source": [
    "n=int(input('Maximum number of stars?'))\n",
    "for x in range(1,n):\n",
    "    print('* '*x)\n",
    "while n>=1:\n",
    "    print('* '*n)\n",
    "    n=n-1"
   ]
  },
  {
   "cell_type": "markdown",
   "metadata": {},
   "source": [
    "# 22. Write a Python program to construct the following pattern\n",
    "1\n",
    "1 2\n",
    "1 2 3\n",
    "1 2 3 4\n",
    "1 2 3 4 5\n",
    "1 2 3 4\n",
    "1 2 3\n",
    "1 2\n",
    "1"
   ]
  },
  {
   "cell_type": "code",
   "execution_count": 16,
   "metadata": {},
   "outputs": [
    {
     "name": "stdout",
     "output_type": "stream",
     "text": [
      "[1]\n",
      "[1, 2]\n",
      "[1, 2, 3]\n",
      "[1, 2, 3, 4]\n",
      "[1, 2, 3, 4, 5]\n",
      "[1, 2, 3, 4]\n",
      "[1, 2, 3]\n",
      "[1, 2]\n",
      "[1]\n"
     ]
    }
   ],
   "source": [
    "a = [1, 2, 3, 4, 5]\n",
    "for x in range(1, 6):\n",
    "    print (a[:x])\n",
    "while a [0] != a[-1]:\n",
    "    print(a[:-1])\n",
    "    a.pop(-1)"
   ]
  },
  {
   "cell_type": "markdown",
   "metadata": {},
   "source": [
    "# 23. Write a Python program to construct the following pattern\n",
    "1\n",
    "22\n",
    "333\n",
    "4444\n",
    "55555\n",
    "666666\n",
    "7777777\n",
    "88888888\n",
    "999999999"
   ]
  },
  {
   "cell_type": "code",
   "execution_count": 17,
   "metadata": {},
   "outputs": [
    {
     "name": "stdout",
     "output_type": "stream",
     "text": [
      "Up till how many numbers do you want the sequence?9\n",
      "1\n",
      "22\n",
      "333\n",
      "4444\n",
      "55555\n",
      "666666\n",
      "7777777\n",
      "88888888\n",
      "999999999\n"
     ]
    }
   ],
   "source": [
    "n=int(input('Up till how many numbers do you want the sequence?'))\n",
    "a=[]\n",
    "for x in range(1,n+1):\n",
    "    a.append(str(x))\n",
    "for x in a:\n",
    "    print(x*int(x))"
   ]
  }
 ],
 "metadata": {
  "kernelspec": {
   "display_name": "Python 3",
   "language": "python",
   "name": "python3"
  },
  "language_info": {
   "codemirror_mode": {
    "name": "ipython",
    "version": 3
   },
   "file_extension": ".py",
   "mimetype": "text/x-python",
   "name": "python",
   "nbconvert_exporter": "python",
   "pygments_lexer": "ipython3",
   "version": "3.7.3"
  }
 },
 "nbformat": 4,
 "nbformat_minor": 2
}
